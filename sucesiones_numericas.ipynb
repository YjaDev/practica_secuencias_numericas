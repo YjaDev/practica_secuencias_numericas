{
 "cells": [
  {
   "cell_type": "markdown",
   "id": "a4ed0774",
   "metadata": {},
   "source": [
    "# Problema 1\n"
   ]
  },
  {
   "cell_type": "markdown",
   "id": "3c23d073",
   "metadata": {},
   "source": [
    "Considere la sucesión $a_{n} = 3n^{2} + 7$. Por medio de un código en *Python* despliega en pantalla:\n",
    "\n",
    "1. Los primeros $5$ términos.\n",
    "2. Los $5$ términos que vienen inmediatamente después del decimoquinto término.\n"
   ]
  },
  {
   "cell_type": "code",
   "execution_count": 18,
   "id": "3a3b9e85",
   "metadata": {},
   "outputs": [
    {
     "name": "stdout",
     "output_type": "stream",
     "text": [
      "----[Ejercicio 1]------\n",
      "\n",
      "Estamos en el número '1'\n",
      "El resultado de (3 *(1**2)) + 7 es = 10\n",
      "Estamos en el número '2'\n",
      "El resultado de (3 *(2**2)) + 7 es = 19\n",
      "Estamos en el número '3'\n",
      "El resultado de (3 *(3**2)) + 7 es = 34\n",
      "Estamos en el número '4'\n",
      "El resultado de (3 *(4**2)) + 7 es = 55\n",
      "Estamos en el número '5'\n",
      "El resultado de (3 *(5**2)) + 7 es = 82\n",
      "\n",
      "\n",
      "--------[Ejercicio 2]---------\n",
      "\n",
      "16\n",
      "17\n",
      "18\n",
      "19\n",
      "20\n"
     ]
    }
   ],
   "source": [
    "a=0\n",
    "def a(n):\n",
    "    a=(3* (n**2)) + 7\n",
    "    print(f\"El resultado de (3 *({n}**2)) + 7 es = {a}\")\n",
    "\n",
    "print(\"----[Ejercicio 1]------\\n\")\n",
    "\n",
    "for n in range(5):\n",
    "    print(f\"Estamos en el número '{n+1}'\")\n",
    "    resultado=a(n+1)\n",
    "print(\"\\n\")\n",
    "print(\"--------[Ejercicio 2]---------\\n\")\n",
    "for n in range(15,20):\n",
    "    print(n+1)"
   ]
  },
  {
   "cell_type": "markdown",
   "id": "1f3ba45f",
   "metadata": {},
   "source": [
    "# Problema 2"
   ]
  },
  {
   "cell_type": "markdown",
   "id": "7bc816ee",
   "metadata": {},
   "source": [
    "Considere la sucesión  gn=5n3 . Implemente un código en Python que muestre en pantalla:\n",
    "\n",
    "1.-Los primeros  4  términos de la sucesión.\n",
    "2.-Los  4  términos que vienen inmediatamente después del octavo término.\n",
    "3.-Determinar si el término  40.000  pertenece a la sucesión. Si es así, indicar en qué posición se encuentra."
   ]
  },
  {
   "cell_type": "markdown",
   "id": "41343a4b",
   "metadata": {},
   "source": [
    "La sucesión de Fibonacci es una serie de números en la que cada número, desde el tercero en adelante, es la suma de los dos anteriores. Comienza con el $0$ y $1$, tal como se observa a continuación:\n",
    "\n",
    "$$0, 1, 1, 2, 3, 5, 8, 13, ...$$\n",
    "\n",
    "Formalmente, la sucesión se define de la siguiente manera:\n",
    "\n",
    "\\begin{split}\n",
    "F(0) &= 0\\\\\n",
    "F(1) &= 1\\\\\n",
    "F(n) &= F(n - 1) + F(n - 2), \\ \\text{ para $n \\geq 2$}\n",
    "\\end{split}\n",
    "\n",
    "Esta sucesión se utiliza en una variedad de contextos en informática y algoritmos debido a sus propiedades matemáticas y patrones.\n",
    "\n",
    "1. Implementa un código en *Python* que muestre en pantalla los primeros $20$ términos de la sucesión.\n",
    "2. Calcula, utilizando un ciclo *for*, la suma de los primeros $30$ términos de la sucesión de Fibonacci."
   ]
  },
  {
   "cell_type": "markdown",
   "id": "69d4c13b",
   "metadata": {},
   "source": [
    "# Problema 3"
   ]
  },
  {
   "cell_type": "markdown",
   "id": "0525cfaf",
   "metadata": {},
   "source": [
    "Implementa un código que permita guardar en una lista la sucesión de los primeros  n  números pares, con  n≥1 . Luego, determina:\n",
    "\n",
    "1.-¿Cuál es el valor del décimo término?\n",
    "\n",
    "2.-Calcula, utilizando un ciclo for, la suma de los primeros  100  números pares.\n",
    "\n",
    "3.-¿En qué posición se encuentra el número  58  dentro de la sucesión?\n",
    "\n"
   ]
  }
 ],
 "metadata": {
  "kernelspec": {
   "display_name": "Python 3",
   "language": "python",
   "name": "python3"
  },
  "language_info": {
   "codemirror_mode": {
    "name": "ipython",
    "version": 3
   },
   "file_extension": ".py",
   "mimetype": "text/x-python",
   "name": "python",
   "nbconvert_exporter": "python",
   "pygments_lexer": "ipython3",
   "version": "3.12.3"
  }
 },
 "nbformat": 4,
 "nbformat_minor": 5
}
